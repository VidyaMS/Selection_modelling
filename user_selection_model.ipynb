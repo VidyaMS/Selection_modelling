{
 "cells": [
  {
   "cell_type": "code",
   "execution_count": 1,
   "metadata": {
    "collapsed": true
   },
   "outputs": [],
   "source": [
    "import pandas as pd\n",
    "import numpy as np \n",
    "import matplotlib.pyplot as plt \n",
    "%matplotlib inline\n",
    "import seaborn as sns"
   ]
  },
  {
   "cell_type": "code",
   "execution_count": 2,
   "metadata": {
    "collapsed": true
   },
   "outputs": [],
   "source": [
    "from sklearn.linear_model import LogisticRegression"
   ]
  },
  {
   "cell_type": "code",
   "execution_count": 3,
   "metadata": {
    "collapsed": true
   },
   "outputs": [],
   "source": [
    "import statsmodels.formula.api as sm"
   ]
  },
  {
   "cell_type": "code",
   "execution_count": 4,
   "metadata": {
    "collapsed": true
   },
   "outputs": [],
   "source": [
    "from scipy.optimize import minimize, curve_fit"
   ]
  },
  {
   "cell_type": "code",
   "execution_count": 5,
   "metadata": {
    "collapsed": true
   },
   "outputs": [],
   "source": [
    "from sklearn.metrics import  roc_auc_score, accuracy_score, classification_report, confusion_matrix, auc , roc_curve\n",
    "from sklearn.model_selection import cross_val_predict, cross_val_score , train_test_split, cross_validate, StratifiedKFold, GridSearchCV\n"
   ]
  },
  {
   "cell_type": "code",
   "execution_count": 6,
   "metadata": {
    "collapsed": true
   },
   "outputs": [],
   "source": [
    "user_data = pd.read_csv(\"User_data.csv\")"
   ]
  },
  {
   "cell_type": "code",
   "execution_count": 7,
   "metadata": {
    "collapsed": true
   },
   "outputs": [],
   "source": [
    "## Looking into the  file and their columns .\n",
    "\n",
    "def file_details(filename):\n",
    "\n",
    "    print(filename.head())\n",
    "    print(\"\\n\")\n",
    "    print(filename.info())\n",
    "    print(\"\\n\")\n",
    "    print(filename.isnull().sum())"
   ]
  },
  {
   "cell_type": "code",
   "execution_count": 8,
   "metadata": {},
   "outputs": [
    {
     "name": "stdout",
     "output_type": "stream",
     "text": [
      "    User ID  Gender  Age  EstimatedSalary  Purchased\n",
      "0  15624510    Male   19            19000          0\n",
      "1  15810944    Male   35            20000          0\n",
      "2  15668575  Female   26            43000          0\n",
      "3  15603246  Female   27            57000          0\n",
      "4  15804002    Male   19            76000          0\n",
      "\n",
      "\n",
      "<class 'pandas.core.frame.DataFrame'>\n",
      "RangeIndex: 400 entries, 0 to 399\n",
      "Data columns (total 5 columns):\n",
      "User ID            400 non-null int64\n",
      "Gender             400 non-null object\n",
      "Age                400 non-null int64\n",
      "EstimatedSalary    400 non-null int64\n",
      "Purchased          400 non-null int64\n",
      "dtypes: int64(4), object(1)\n",
      "memory usage: 15.7+ KB\n",
      "None\n",
      "\n",
      "\n",
      "User ID            0\n",
      "Gender             0\n",
      "Age                0\n",
      "EstimatedSalary    0\n",
      "Purchased          0\n",
      "dtype: int64\n"
     ]
    }
   ],
   "source": [
    "file_details(user_data)"
   ]
  },
  {
   "cell_type": "code",
   "execution_count": 29,
   "metadata": {
    "collapsed": true
   },
   "outputs": [],
   "source": [
    "## Create three bins of estimated salary , low , medium and high\n",
    "def salary_levels(val):\n",
    "    if val < 60000:\n",
    "        return 'low'\n",
    "    elif (val > 60000) & (val < 100000):\n",
    "        return 'medium'\n",
    "    else:\n",
    "        return 'high'\n",
    "    \n",
    "user_data['salary_level'] = user_data['EstimatedSalary'].apply(lambda x: salary_levels(x))"
   ]
  },
  {
   "cell_type": "code",
   "execution_count": 30,
   "metadata": {},
   "outputs": [
    {
     "data": {
      "text/plain": [
       "low       167\n",
       "medium    152\n",
       "high       81\n",
       "Name: salary_level, dtype: int64"
      ]
     },
     "execution_count": 30,
     "metadata": {},
     "output_type": "execute_result"
    }
   ],
   "source": [
    "user_data['salary_level'].value_counts()"
   ]
  },
  {
   "cell_type": "code",
   "execution_count": 10,
   "metadata": {},
   "outputs": [
    {
     "data": {
      "text/plain": [
       "<matplotlib.axes._subplots.AxesSubplot at 0x251a5485fd0>"
      ]
     },
     "execution_count": 10,
     "metadata": {},
     "output_type": "execute_result"
    },
    {
     "data": {
      "image/png": "[encoded data removed]",
      "text/plain": [
       "<Figure size 432x288 with 1 Axes>"
      ]
     },
     "metadata": {},
     "output_type": "display_data"
    }
   ],
   "source": [
    "## How many have purchased ?\n",
    "user_data['Purchased'].value_counts().plot(kind = 'bar')"
   ]
  },
  {
   "cell_type": "markdown",
   "metadata": {},
   "source": [
    "Its a imbalanced data set with those not purchasing greater than those purchased by 79%"
   ]
  },
  {
   "cell_type": "code",
   "execution_count": 11,
   "metadata": {},
   "outputs": [
    {
     "data": {
      "text/plain": [
       "<matplotlib.axes._subplots.AxesSubplot at 0x251a58bfa90>"
      ]
     },
     "execution_count": 11,
     "metadata": {},
     "output_type": "execute_result"
    },
    {
     "data": {
      "image/png": "[encoded data removed]",
      "text/plain": [
       "<Figure size 432x288 with 1 Axes>"
      ]
     },
     "metadata": {},
     "output_type": "display_data"
    }
   ],
   "source": [
    "## Observing some data dispersions of variables  based on those purchased or not \n",
    "sns.boxplot('Purchased' , 'Age', data = user_data)"
   ]
  },
  {
   "cell_type": "markdown",
   "metadata": {},
   "source": [
    "Average age of those who purchased is @ 46 years and those who didnt is @ 35 years ."
   ]
  },
  {
   "cell_type": "code",
   "execution_count": 15,
   "metadata": {},
   "outputs": [
    {
     "data": {
      "text/plain": [
       "<matplotlib.axes._subplots.AxesSubplot at 0x1d1746ff128>"
      ]
     },
     "execution_count": 15,
     "metadata": {},
     "output_type": "execute_result"
    },
    {
     "data": {
      "image/png": "[encoded data removed]",
      "text/plain": [
       "<Figure size 432x288 with 1 Axes>"
      ]
     },
     "metadata": {},
     "output_type": "display_data"
    }
   ],
   "source": [
    "sns.boxplot('Purchased' , 'EstimatedSalary', data = user_data)"
   ]
  },
  {
   "cell_type": "markdown",
   "metadata": {},
   "source": [
    "Average estimated salary for those who purchased is @90000 and those who didnt is @ 60000."
   ]
  },
  {
   "cell_type": "code",
   "execution_count": 27,
   "metadata": {},
   "outputs": [
    {
     "data": {
      "text/plain": [
       "Text(0.5,1,'Those didnt purchase.')"
      ]
     },
     "execution_count": 27,
     "metadata": {},
     "output_type": "execute_result"
    },
    {
     "data": {
      "image/png": "[encoded data removed]",
      "text/plain": [
       "<Figure size 1080x360 with 2 Axes>"
      ]
     },
     "metadata": {},
     "output_type": "display_data"
    }
   ],
   "source": [
    "## How many male and female among the buyers ?? \n",
    "plt.figure(figsize = (15,5))\n",
    "plt.subplot(1,2,1)\n",
    "user_data[user_data['Purchased'] == 1]['Gender'].value_counts().plot(kind = 'bar')\n",
    "plt.title(\"Those Purchased\")\n",
    "#plt.figure(figsize = (8,5))\n",
    "plt.subplot(1,2,2)\n",
    "user_data[user_data['Purchased'] == 0]['Gender'].value_counts().plot(kind = 'bar')\n",
    "plt.title(\"Those didnt purchase.\")\n"
   ]
  },
  {
   "cell_type": "markdown",
   "metadata": {},
   "source": [
    "Female users purchased more than male . Among the non-purchasers, the count of male and female user didnt vary significantly."
   ]
  },
  {
   "cell_type": "code",
   "execution_count": 12,
   "metadata": {
    "collapsed": true
   },
   "outputs": [],
   "source": [
    "## Perform logistic regression.\n",
    "\n",
    "def perform_logreg(model , X_train,X_test,y_train,y_test):\n",
    "    \n",
    "    model.fit(X_train,y_train)\n",
    "    \n",
    "    print(\"\\n Train Score : \" + str(model.score(X_train,y_train)))\n",
    "    train_pred = model.predict(X_train)\n",
    "\n",
    "    accuracy = np.mean(y_train == train_pred)\n",
    "    print(\"Train Accuracy using predicted labels :\" + str(accuracy))\n",
    "\n",
    "\n",
    "    test_pred = model.predict(X_test)\n",
    "    \n",
    "\n",
    "    print(\"Test set score using predicted labels: {:.2f}\".format(np.mean(test_pred == y_test)))\n",
    "\n",
    "    print(\"Calculated Test set score: {:.2f}\".format(model.score(X_test,y_test)))\n",
    "\n",
    "    print(\"Accuracy score :{:.3f}\".format(accuracy_score(y_test,test_pred)))\n",
    "\n",
    "    print(\"Confusion matrix :\\n{}\".format(confusion_matrix(y_test,test_pred)))\n",
    "    \n",
    "    print(\"\\n Coefficients {}\".format(model.coef_))\n",
    "\n",
    "    ## Calculate the AUC and plot the ROC curve.\n",
    "    test_prob = model.predict_proba(X_test)\n",
    "    preds = test_prob[:,1]\n",
    "    fpr, tpr, thresholds = roc_curve(y_test, preds)\n",
    "    roc_auc = auc(fpr, tpr)\n",
    "    \n",
    "    ## Plot ROC curve.\n",
    "    plt.title('Receiver Operating Characteristic')\n",
    "    plt.plot(fpr, tpr, 'b', label = 'AUC = %0.2f' % roc_auc)\n",
    "    plt.legend(loc = 'lower right')\n",
    "    plt.plot([0, 1], [0, 1],'r--')\n",
    "    plt.xlim([0, 1])\n",
    "    plt.ylim([0, 1])\n",
    "    plt.ylabel('True Positive Rate')\n",
    "    plt.xlabel('False Positive Rate')\n",
    "    plt.show()\n",
    "    "
   ]
  },
  {
   "cell_type": "code",
   "execution_count": 13,
   "metadata": {
    "collapsed": true
   },
   "outputs": [],
   "source": [
    "## Hot encode the categorical variables .\n",
    "\n",
    "\n",
    "def hot_encode(df, cols):\n",
    "    ## Change the categorical columns to dummy variables . \n",
    "    \n",
    "    for c in cols:\n",
    "        col_dummies = pd.get_dummies(df[c], prefix_sep = \"_\", prefix = c)\n",
    "        df = pd.concat([df,col_dummies] , axis = 1)\n",
    "        df.drop(c , inplace = True , axis = 1)\n",
    "    return df"
   ]
  },
  {
   "cell_type": "code",
   "execution_count": 44,
   "metadata": {},
   "outputs": [
    {
     "name": "stdout",
     "output_type": "stream",
     "text": [
      "\n",
      " X_train : (320,)\n",
      "\n",
      " X_test : (80,)\n",
      "\n",
      " y_train : (320,)\n",
      "\n",
      " y_test : (80,)\n",
      "\n",
      " Train Score : 0.85\n",
      "Train Accuracy using predicted labels :0.85\n",
      "Test set score using predicted labels: 0.80\n",
      "Calculated Test set score: 0.80\n",
      "Accuracy score :0.800\n",
      "Confusion matrix :\n",
      "[[46  5]\n",
      " [11 18]]\n",
      "\n",
      " Coefficients [[ 0.20301674]]\n"
     ]
    },
    {
     "data": {
      "image/png": "[encoded data removed]",
      "text/plain": [
       "<Figure size 432x288 with 1 Axes>"
      ]
     },
     "metadata": {},
     "output_type": "display_data"
    }
   ],
   "source": [
    "X_train, X_test, y_train, y_test  = train_test_split(user_data['Age'], user_data['Purchased'] , random_state = 1 , test_size = 0.2, stratify = user_data['Purchased'])\n",
    "print(\"\\n X_train : {}\".format(X_train.shape))\n",
    "print(\"\\n X_test : {}\".format(X_test.shape))\n",
    "print(\"\\n y_train : {}\".format(y_train.shape))\n",
    "print(\"\\n y_test : {}\".format(y_test.shape))\n",
    "##\n",
    "X_train = X_train.values.reshape(-1,1)\n",
    "X_test = X_test.values.reshape(-1,1)\n",
    "\n",
    "lg = LogisticRegression(C = np.inf, solver = \"lbfgs\", penalty = \"l2\")\n",
    "perform_logreg(lg , X_train,X_test,y_train,y_test )"
   ]
  },
  {
   "cell_type": "code",
   "execution_count": 46,
   "metadata": {},
   "outputs": [
    {
     "name": "stdout",
     "output_type": "stream",
     "text": [
      "\n",
      " X_train : (320, 2)\n",
      "\n",
      " X_test : (80, 2)\n",
      "\n",
      " y_train : (320,)\n",
      "\n",
      " y_test : (80,)\n",
      "\n",
      " Train Score : 0.64375\n",
      "Train Accuracy using predicted labels :0.64375\n",
      "Test set score using predicted labels: 0.64\n",
      "Calculated Test set score: 0.64\n",
      "Accuracy score :0.637\n",
      "Confusion matrix :\n",
      "[[51  0]\n",
      " [29  0]]\n",
      "\n",
      " Coefficients [[ -1.86142633e-09  -2.93400345e-06]]\n"
     ]
    },
    {
     "data": {
      "image/png": "[encoded data removed]",
      "text/plain": [
       "<Figure size 432x288 with 1 Axes>"
      ]
     },
     "metadata": {},
     "output_type": "display_data"
    }
   ],
   "source": [
    "X_train, X_test, y_train, y_test  = train_test_split(user_data[['Age','EstimatedSalary']], user_data['Purchased'] , random_state = 1 , test_size = 0.2, stratify = user_data['Purchased'])\n",
    "print(\"\\n X_train : {}\".format(X_train.shape))\n",
    "print(\"\\n X_test : {}\".format(X_test.shape))\n",
    "print(\"\\n y_train : {}\".format(y_train.shape))\n",
    "print(\"\\n y_test : {}\".format(y_test.shape))\n",
    "\n",
    "##\n",
    "lg = LogisticRegression(C = np.inf, solver = \"lbfgs\", penalty = \"l2\")\n",
    "perform_logreg(lg , X_train,X_test,y_train,y_test )\n"
   ]
  },
  {
   "cell_type": "markdown",
   "metadata": {},
   "source": [
    "EstimatedSalary does not improve the model and AUC is very poor."
   ]
  },
  {
   "cell_type": "markdown",
   "metadata": {},
   "source": [
    "Check if Gender can improve the predicted accuracy."
   ]
  },
  {
   "cell_type": "code",
   "execution_count": 47,
   "metadata": {},
   "outputs": [
    {
     "name": "stdout",
     "output_type": "stream",
     "text": [
      "\n",
      " X_train : (320, 3)\n",
      "\n",
      " X_test : (80, 3)\n",
      "\n",
      " y_train : (320,)\n",
      "\n",
      " y_test : (80,)\n",
      "\n",
      " Train Score : 0.85\n",
      "Train Accuracy using predicted labels :0.85\n",
      "Test set score using predicted labels: 0.80\n",
      "Calculated Test set score: 0.80\n",
      "Accuracy score :0.800\n",
      "Confusion matrix :\n",
      "[[46  5]\n",
      " [11 18]]\n",
      "\n",
      " Coefficients [[ 0.20345163 -2.91693523 -2.84997259]]\n"
     ]
    },
    {
     "data": {
      "image/png": "[encoded data removed]",
      "text/plain": [
       "<Figure size 432x288 with 1 Axes>"
      ]
     },
     "metadata": {},
     "output_type": "display_data"
    }
   ],
   "source": [
    "predictors = hot_encode(user_data[['Age','Gender']] , ['Gender'])\n",
    "X_train, X_test, y_train, y_test  = train_test_split(predictors, user_data['Purchased'] , random_state = 1 , test_size = 0.2, stratify = user_data['Purchased'])\n",
    "print(\"\\n X_train : {}\".format(X_train.shape))\n",
    "print(\"\\n X_test : {}\".format(X_test.shape))\n",
    "print(\"\\n y_train : {}\".format(y_train.shape))\n",
    "print(\"\\n y_test : {}\".format(y_test.shape))\n",
    "\n",
    "##\n",
    "lg = LogisticRegression(C = np.inf, solver = \"lbfgs\", penalty = \"l2\")\n",
    "perform_logreg(lg , X_train,X_test,y_train,y_test )\n"
   ]
  },
  {
   "cell_type": "markdown",
   "metadata": {},
   "source": [
    "We see that Age is quite a good estimator for Purchase giving an AUC of 0.81.  \n",
    "Gender does not increase the accuracy of prediction.  "
   ]
  },
  {
   "cell_type": "markdown",
   "metadata": {},
   "source": [
    "Add salary_level to the model."
   ]
  },
  {
   "cell_type": "code",
   "execution_count": 32,
   "metadata": {},
   "outputs": [
    {
     "name": "stdout",
     "output_type": "stream",
     "text": [
      "\n",
      " X_train : (320, 4)\n",
      "\n",
      " X_test : (80, 4)\n",
      "\n",
      " y_train : (320,)\n",
      "\n",
      " y_test : (80,)\n",
      "\n",
      " Train Score : 0.871875\n",
      "Train Accuracy using predicted labels :0.871875\n",
      "Test set score using predicted labels: 0.86\n",
      "Calculated Test set score: 0.86\n",
      "Accuracy score :0.863\n",
      "Confusion matrix :\n",
      "[[44  7]\n",
      " [ 4 25]]\n",
      "\n",
      " Coefficients [[ 0.24287373 -0.26267536 -3.54697637 -3.58326008]]\n"
     ]
    },
    {
     "data": {
      "image/png": "[encoded data removed]",
      "text/plain": [
       "<Figure size 432x288 with 1 Axes>"
      ]
     },
     "metadata": {},
     "output_type": "display_data"
    }
   ],
   "source": [
    "predictors = hot_encode(user_data[['Age','salary_level']] , ['salary_level'])\n",
    "X_train, X_test, y_train, y_test  = train_test_split(predictors, user_data['Purchased'] , random_state = 1 , test_size = 0.2, stratify = user_data['Purchased'])\n",
    "print(\"\\n X_train : {}\".format(X_train.shape))\n",
    "print(\"\\n X_test : {}\".format(X_test.shape))\n",
    "print(\"\\n y_train : {}\".format(y_train.shape))\n",
    "print(\"\\n y_test : {}\".format(y_test.shape))\n",
    "\n",
    "##\n",
    "lg = LogisticRegression(C = np.inf, solver = \"lbfgs\", penalty = \"l2\")\n",
    "perform_logreg(lg , X_train,X_test,y_train,y_test )\n"
   ]
  },
  {
   "cell_type": "markdown",
   "metadata": {},
   "source": [
    "Cross validate with 5 folds. Predictors = Age , Salary level "
   ]
  },
  {
   "cell_type": "code",
   "execution_count": 26,
   "metadata": {},
   "outputs": [
    {
     "name": "stdout",
     "output_type": "stream",
     "text": [
      "[ 0.85074627  0.88059701  0.82089552  0.91044776  0.86567164  0.86153846]\n",
      "\n",
      " Avg AUC score :0.8649827784156144\n"
     ]
    }
   ],
   "source": [
    "kf = StratifiedKFold(n_splits = 6, random_state = 1, shuffle = True)\n",
    "lg = LogisticRegression()\n",
    "scores = cross_val_score(lg , predictors,user_data['Purchased'], cv = kf )\n",
    "predicted = cross_val_predict(lg,predictors,user_data['Purchased'], cv = kf , method = 'predict_proba' )\n",
    "print(scores)\n",
    "print(\"\\n Avg AUC score :{}\".format(scores.mean()))"
   ]
  },
  {
   "cell_type": "code",
   "execution_count": 27,
   "metadata": {},
   "outputs": [
    {
     "data": {
      "image/png": "[encoded data removed]",
      "text/plain": [
       "<Figure size 432x288 with 1 Axes>"
      ]
     },
     "metadata": {},
     "output_type": "display_data"
    }
   ],
   "source": [
    "preds = predicted[:,1]\n",
    "fpr, tpr, thresholds = roc_curve(user_data['Purchased'], preds)\n",
    "roc_auc = auc(fpr, tpr)\n",
    "##\n",
    "## Plot ROC curve.\n",
    "plt.title('Receiver Operating Characteristic with cross validation')\n",
    "plt.plot(fpr, tpr, 'b', label = 'AUC = %0.2f' % roc_auc)\n",
    "plt.legend(loc = 'lower right')\n",
    "plt.plot([0, 1], [0, 1],'r--')\n",
    "plt.xlim([0, 1])\n",
    "plt.ylim([0, 1])\n",
    "plt.ylabel('True Positive Rate')\n",
    "plt.xlabel('False Positive Rate')\n",
    "plt.show()"
   ]
  },
  {
   "cell_type": "markdown",
   "metadata": {},
   "source": [
    "Get the coefficients of the estimators.  "
   ]
  },
  {
   "cell_type": "code",
   "execution_count": 28,
   "metadata": {},
   "outputs": [
    {
     "name": "stdout",
     "output_type": "stream",
     "text": [
      "Optimization terminated successfully.\n",
      "         Current function value: 0.420327\n",
      "         Iterations 7\n",
      "                        Results: Logit\n",
      "===============================================================\n",
      "Model:              Logit            No. Iterations:   7.0000  \n",
      "Dependent Variable: Purchased        Pseudo R-squared: 0.355   \n",
      "Date:               2020-05-29 14:40 AIC:              340.2613\n",
      "No. Observations:   400              BIC:              348.2442\n",
      "Df Model:           1                Log-Likelihood:   -168.13 \n",
      "Df Residuals:       398              LL-Null:          -260.79 \n",
      "Converged:          1.0000           Scale:            1.0000  \n",
      "----------------------------------------------------------------\n",
      "            Coef.   Std.Err.     z      P>|z|    [0.025   0.975]\n",
      "----------------------------------------------------------------\n",
      "Intercept  -8.0441    0.7842  -10.2581  0.0000  -9.5811  -6.5072\n",
      "Age         0.1889    0.0192    9.8658  0.0000   0.1514   0.2265\n",
      "===============================================================\n",
      "\n"
     ]
    }
   ],
   "source": [
    "## Perform a basic logistic regression \n",
    "user_mod = sm.logit('Purchased ~ Age' , data = user_data).fit()\n",
    "print(user_mod.summary2())"
   ]
  },
  {
   "cell_type": "code",
   "execution_count": 37,
   "metadata": {},
   "outputs": [
    {
     "name": "stdout",
     "output_type": "stream",
     "text": [
      "Optimization terminated successfully.\n",
      "         Current function value: 0.346314\n",
      "         Iterations 8\n",
      "                         Results: Logit\n",
      "=================================================================\n",
      "Model:                Logit            No. Iterations:   8.0000  \n",
      "Dependent Variable:   Purchased        Pseudo R-squared: 0.469   \n",
      "Date:                 2020-05-29 14:57 AIC:              283.0514\n",
      "No. Observations:     400              BIC:              295.0258\n",
      "Df Model:             2                Log-Likelihood:   -138.53 \n",
      "Df Residuals:         397              LL-Null:          -260.79 \n",
      "Converged:            1.0000           Scale:            1.0000  \n",
      "-----------------------------------------------------------------\n",
      "                 Coef.   Std.Err.    z    P>|z|   [0.025   0.975]\n",
      "-----------------------------------------------------------------\n",
      "Intercept       -12.4340   1.2998 -9.5662 0.0000 -14.9815 -9.8865\n",
      "Age               0.2335   0.0259  9.0128 0.0000   0.1827  0.2843\n",
      "EstimatedSalary   0.0000   0.0000  6.6127 0.0000   0.0000  0.0000\n",
      "=================================================================\n",
      "\n"
     ]
    }
   ],
   "source": [
    "user_mod = sm.logit('Purchased ~ Age + EstimatedSalary' , data = user_data).fit()\n",
    "print(user_mod.summary2())"
   ]
  },
  {
   "cell_type": "markdown",
   "metadata": {},
   "source": [
    "Estimated Salary can be dropped as shown above as the coefficient is zero ."
   ]
  },
  {
   "cell_type": "code",
   "execution_count": 39,
   "metadata": {},
   "outputs": [
    {
     "name": "stdout",
     "output_type": "stream",
     "text": [
      "Optimization terminated successfully.\n",
      "         Current function value: 0.420177\n",
      "         Iterations 7\n",
      "                         Results: Logit\n",
      "=================================================================\n",
      "Model:                Logit            No. Iterations:   7.0000  \n",
      "Dependent Variable:   Purchased        Pseudo R-squared: 0.356   \n",
      "Date:                 2020-05-29 14:58 AIC:              342.1413\n",
      "No. Observations:     400              BIC:              354.1157\n",
      "Df Model:             2                Log-Likelihood:   -168.07 \n",
      "Df Residuals:         397              LL-Null:          -260.79 \n",
      "Converged:            1.0000           Scale:            1.0000  \n",
      "-----------------------------------------------------------------\n",
      "                   Coef.  Std.Err.    z    P>|z|   [0.025  0.975]\n",
      "-----------------------------------------------------------------\n",
      "Intercept         -8.1154   0.8138 -9.9725 0.0000 -9.7103 -6.5204\n",
      "C(Gender)[T.Male]  0.0947   0.2735  0.3461 0.7293 -0.4414  0.6308\n",
      "Age                0.1895   0.0193  9.8421 0.0000  0.1518  0.2273\n",
      "=================================================================\n",
      "\n"
     ]
    }
   ],
   "source": [
    "user_mod = sm.logit('Purchased ~ Age + C(Gender)' , data = user_data).fit()\n",
    "print(user_mod.summary2())"
   ]
  },
  {
   "cell_type": "code",
   "execution_count": 31,
   "metadata": {},
   "outputs": [
    {
     "name": "stdout",
     "output_type": "stream",
     "text": [
      "Optimization terminated successfully.\n",
      "         Current function value: 0.333934\n",
      "         Iterations 7\n",
      "                             Results: Logit\n",
      "=========================================================================\n",
      "Model:                  Logit               No. Iterations:      7.0000  \n",
      "Dependent Variable:     Purchased           Pseudo R-squared:    0.488   \n",
      "Date:                   2020-06-05 18:37    AIC:                 275.1469\n",
      "No. Observations:       400                 BIC:                 291.1127\n",
      "Df Model:               3                   Log-Likelihood:      -133.57 \n",
      "Df Residuals:           396                 LL-Null:             -260.79 \n",
      "Converged:              1.0000              Scale:               1.0000  \n",
      "-------------------------------------------------------------------------\n",
      "                           Coef.  Std.Err.    z    P>|z|   [0.025  0.975]\n",
      "-------------------------------------------------------------------------\n",
      "Intercept                 -6.9548   0.9328 -7.4558 0.0000 -8.7830 -5.1265\n",
      "C(salary_level)[T.low]    -3.0203   0.4542 -6.6493 0.0000 -3.9106 -2.1301\n",
      "C(salary_level)[T.medium] -2.9641   0.4409 -6.7230 0.0000 -3.8282 -2.1000\n",
      "Age                        0.2191   0.0247  8.8546 0.0000  0.1706  0.2676\n",
      "=========================================================================\n",
      "\n"
     ]
    }
   ],
   "source": [
    "user_mod = sm.logit('Purchased ~ Age + C(salary_level)' , data = user_data).fit()\n",
    "print(user_mod.summary2())"
   ]
  },
  {
   "cell_type": "markdown",
   "metadata": {},
   "source": [
    "Probability of User Purchase is given by : 1/(1 + exp(w)) where w is  \n",
    "-6.9548  + 0.2191*Age -3.0203*salary_level(low) -2.9641*salary_level(medium)"
   ]
  },
  {
   "cell_type": "code",
   "execution_count": null,
   "metadata": {
    "collapsed": true
   },
   "outputs": [],
   "source": []
  }
 ],
 "metadata": {
  "kernelspec": {
   "display_name": "Python 3",
   "language": "python",
   "name": "python3"
  },
  "language_info": {
   "codemirror_mode": {
    "name": "ipython",
    "version": 3
   },
   "file_extension": ".py",
   "mimetype": "text/x-python",
   "name": "python",
   "nbconvert_exporter": "python",
   "pygments_lexer": "ipython3",
   "version": "3.6.3"
  }
 },
 "nbformat": 4,
 "nbformat_minor": 2
}
